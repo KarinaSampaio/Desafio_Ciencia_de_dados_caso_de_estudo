{
 "cells": [
  {
   "metadata": {
    "ExecuteTime": {
     "end_time": "2024-10-27T01:32:43.447188Z",
     "start_time": "2024-10-27T01:32:43.439517Z"
    }
   },
   "cell_type": "code",
   "source": [
    "# Importando as bibliotecas\n",
    "import pandas as pd\n",
    "import numpy as np\n",
    "import matplotlib.pyplot as plt\n",
    "import seaborn as sns\n",
    "\n",
    "# Definir configurações de exibição\n",
    "pd.set_option('display.max_columns', None)\n"
   ],
   "id": "3d3763498efc97b7",
   "outputs": [],
   "execution_count": 1
  },
  {
   "metadata": {},
   "cell_type": "markdown",
   "source": "## Questão 1\n",
   "id": "76490ad6245bdcdb"
  },
  {
   "metadata": {},
   "cell_type": "markdown",
   "source": [
    "## Carregamento de Dados\n",
    "Carregar os conjuntos de dados:\n",
    "\n",
    "Carregar o arquivo august_with_missing_order_days.parquet para entender os dias em que os pedidos já foram feitos ou se eles estão totalmente ausentes para alguns usuários;\n",
    "\n",
    "Carregar historical_orders.parquet para estudar as tendências históricas dos padrões de pedidos de cada usuário, como:\n",
    "Frequência de pedidos por mês; \n",
    "\n",
    "Distribuição dos dias de pedido ao longo do mês; \n",
    "\n",
    "Carregar august_total_sales.parquet para ter as vendas previstas para cada usuário em agosto. Isso pode ajudar a ajustar as previsões, estimando quantos pedidos ainda podem ser esperados, assumindo um valor médio de pedido."
   ],
   "id": "3e2c23565372e34f"
  },
  {
   "metadata": {
    "ExecuteTime": {
     "end_time": "2024-10-27T01:34:35.286886Z",
     "start_time": "2024-10-27T01:34:15.725152Z"
    }
   },
   "cell_type": "code",
   "source": [
    "# Carregar os dados\n",
    "august_total_sales = pd.read_csv(\"C:/Users/karin/Downloads/data_files_challenge (2)/august_total_sales.csv\")\n",
    "august_with_missing_order_days = pd.read_csv(\"C:/Users/karin/Downloads/data_files_challenge (2)/august_with_missing_order_days.csv\")\n",
    "historical_orders = pd.read_csv(\"C:/Users/karin/Downloads/data_files_challenge (2)/historical_orders.csv\")\n",
    "\n",
    "# Exibir uma amostra dos dados\n",
    "print(\"Dados de total de vendas em agosto:\")\n",
    "display(august_total_sales.head())\n",
    "\n",
    "print(\"Dados com dias de pedidos faltantes para agosto:\")\n",
    "display(august_with_missing_order_days.head())\n",
    "\n",
    "print(\"Histórico de pedidos dos usuários:\")\n",
    "display(historical_orders.head())\n"
   ],
   "id": "6a92b92f409de812",
   "outputs": [
    {
     "name": "stdout",
     "output_type": "stream",
     "text": [
      "Dados de total de vendas em agosto:\n"
     ]
    },
    {
     "data": {
      "text/plain": [
       "       account_id  total_transaction_amount_august\n",
       "0  BR_00000343803                           309.99\n",
       "1  BR_00001415930                           874.98\n",
       "2  BR_00001760106                         11976.70\n",
       "3  BR_00002485176                           511.48\n",
       "4  BR_00002536340                          7081.14"
      ],
      "text/html": [
       "<div>\n",
       "<style scoped>\n",
       "    .dataframe tbody tr th:only-of-type {\n",
       "        vertical-align: middle;\n",
       "    }\n",
       "\n",
       "    .dataframe tbody tr th {\n",
       "        vertical-align: top;\n",
       "    }\n",
       "\n",
       "    .dataframe thead th {\n",
       "        text-align: right;\n",
       "    }\n",
       "</style>\n",
       "<table border=\"1\" class=\"dataframe\">\n",
       "  <thead>\n",
       "    <tr style=\"text-align: right;\">\n",
       "      <th></th>\n",
       "      <th>account_id</th>\n",
       "      <th>total_transaction_amount_august</th>\n",
       "    </tr>\n",
       "  </thead>\n",
       "  <tbody>\n",
       "    <tr>\n",
       "      <th>0</th>\n",
       "      <td>BR_00000343803</td>\n",
       "      <td>309.99</td>\n",
       "    </tr>\n",
       "    <tr>\n",
       "      <th>1</th>\n",
       "      <td>BR_00001415930</td>\n",
       "      <td>874.98</td>\n",
       "    </tr>\n",
       "    <tr>\n",
       "      <th>2</th>\n",
       "      <td>BR_00001760106</td>\n",
       "      <td>11976.70</td>\n",
       "    </tr>\n",
       "    <tr>\n",
       "      <th>3</th>\n",
       "      <td>BR_00002485176</td>\n",
       "      <td>511.48</td>\n",
       "    </tr>\n",
       "    <tr>\n",
       "      <th>4</th>\n",
       "      <td>BR_00002536340</td>\n",
       "      <td>7081.14</td>\n",
       "    </tr>\n",
       "  </tbody>\n",
       "</table>\n",
       "</div>"
      ]
     },
     "metadata": {},
     "output_type": "display_data"
    },
    {
     "name": "stdout",
     "output_type": "stream",
     "text": [
      "Dados com dias de pedidos faltantes para agosto:\n"
     ]
    },
    {
     "data": {
      "text/plain": [
       "       account_id  order_date  transaction_amount\n",
       "0  BR_09532176632  2022-08-03               11.16\n",
       "1  BR_09532176632  2022-08-03               32.52\n",
       "2  BR_09532176632  2022-08-03               24.90\n",
       "3  BR_09532176632  2022-08-03               28.50\n",
       "4  BR_09532176632  2022-08-03               11.16"
      ],
      "text/html": [
       "<div>\n",
       "<style scoped>\n",
       "    .dataframe tbody tr th:only-of-type {\n",
       "        vertical-align: middle;\n",
       "    }\n",
       "\n",
       "    .dataframe tbody tr th {\n",
       "        vertical-align: top;\n",
       "    }\n",
       "\n",
       "    .dataframe thead th {\n",
       "        text-align: right;\n",
       "    }\n",
       "</style>\n",
       "<table border=\"1\" class=\"dataframe\">\n",
       "  <thead>\n",
       "    <tr style=\"text-align: right;\">\n",
       "      <th></th>\n",
       "      <th>account_id</th>\n",
       "      <th>order_date</th>\n",
       "      <th>transaction_amount</th>\n",
       "    </tr>\n",
       "  </thead>\n",
       "  <tbody>\n",
       "    <tr>\n",
       "      <th>0</th>\n",
       "      <td>BR_09532176632</td>\n",
       "      <td>2022-08-03</td>\n",
       "      <td>11.16</td>\n",
       "    </tr>\n",
       "    <tr>\n",
       "      <th>1</th>\n",
       "      <td>BR_09532176632</td>\n",
       "      <td>2022-08-03</td>\n",
       "      <td>32.52</td>\n",
       "    </tr>\n",
       "    <tr>\n",
       "      <th>2</th>\n",
       "      <td>BR_09532176632</td>\n",
       "      <td>2022-08-03</td>\n",
       "      <td>24.90</td>\n",
       "    </tr>\n",
       "    <tr>\n",
       "      <th>3</th>\n",
       "      <td>BR_09532176632</td>\n",
       "      <td>2022-08-03</td>\n",
       "      <td>28.50</td>\n",
       "    </tr>\n",
       "    <tr>\n",
       "      <th>4</th>\n",
       "      <td>BR_09532176632</td>\n",
       "      <td>2022-08-03</td>\n",
       "      <td>11.16</td>\n",
       "    </tr>\n",
       "  </tbody>\n",
       "</table>\n",
       "</div>"
      ]
     },
     "metadata": {},
     "output_type": "display_data"
    },
    {
     "name": "stdout",
     "output_type": "stream",
     "text": [
      "Histórico de pedidos dos usuários:\n"
     ]
    },
    {
     "data": {
      "text/plain": [
       "          account_id  order_date  transaction_amount  __index_level_0__\n",
       "0  BR_09607801000194  2021-08-28             11011.2                  0\n",
       "1  BR_09607801000194  2021-08-28             13764.0                  1\n",
       "2  BR_09607801000194  2021-08-28             11011.2                  2\n",
       "3  BR_09607801000194  2021-08-28             11011.2                  3\n",
       "4  BR_09607801000194  2021-08-28             13764.0                  4"
      ],
      "text/html": [
       "<div>\n",
       "<style scoped>\n",
       "    .dataframe tbody tr th:only-of-type {\n",
       "        vertical-align: middle;\n",
       "    }\n",
       "\n",
       "    .dataframe tbody tr th {\n",
       "        vertical-align: top;\n",
       "    }\n",
       "\n",
       "    .dataframe thead th {\n",
       "        text-align: right;\n",
       "    }\n",
       "</style>\n",
       "<table border=\"1\" class=\"dataframe\">\n",
       "  <thead>\n",
       "    <tr style=\"text-align: right;\">\n",
       "      <th></th>\n",
       "      <th>account_id</th>\n",
       "      <th>order_date</th>\n",
       "      <th>transaction_amount</th>\n",
       "      <th>__index_level_0__</th>\n",
       "    </tr>\n",
       "  </thead>\n",
       "  <tbody>\n",
       "    <tr>\n",
       "      <th>0</th>\n",
       "      <td>BR_09607801000194</td>\n",
       "      <td>2021-08-28</td>\n",
       "      <td>11011.2</td>\n",
       "      <td>0</td>\n",
       "    </tr>\n",
       "    <tr>\n",
       "      <th>1</th>\n",
       "      <td>BR_09607801000194</td>\n",
       "      <td>2021-08-28</td>\n",
       "      <td>13764.0</td>\n",
       "      <td>1</td>\n",
       "    </tr>\n",
       "    <tr>\n",
       "      <th>2</th>\n",
       "      <td>BR_09607801000194</td>\n",
       "      <td>2021-08-28</td>\n",
       "      <td>11011.2</td>\n",
       "      <td>2</td>\n",
       "    </tr>\n",
       "    <tr>\n",
       "      <th>3</th>\n",
       "      <td>BR_09607801000194</td>\n",
       "      <td>2021-08-28</td>\n",
       "      <td>11011.2</td>\n",
       "      <td>3</td>\n",
       "    </tr>\n",
       "    <tr>\n",
       "      <th>4</th>\n",
       "      <td>BR_09607801000194</td>\n",
       "      <td>2021-08-28</td>\n",
       "      <td>13764.0</td>\n",
       "      <td>4</td>\n",
       "    </tr>\n",
       "  </tbody>\n",
       "</table>\n",
       "</div>"
      ]
     },
     "metadata": {},
     "output_type": "display_data"
    }
   ],
   "execution_count": 2
  },
  {
   "metadata": {},
   "cell_type": "markdown",
   "source": [
    "## Pré-processamento dos Dados\n",
    "Para o conjunto de dados historical_orders, extraímos os dias dos pedidos para identificar padrões históricos de frequência mensal.\n",
    "Para august_total_sales, adiciona-se colunas para categorizar a intensidade de pedidos com base nas previsões."
   ],
   "id": "bfe497a2d342bf15"
  },
  {
   "metadata": {
    "ExecuteTime": {
     "end_time": "2024-10-25T22:15:32.216731Z",
     "start_time": "2024-10-25T22:15:23.884816Z"
    }
   },
   "cell_type": "code",
   "source": [
    "# Processar os dados históricos para contar dias de pedido por mês para cada usuário\n",
    "historical_orders['order_date'] = pd.to_datetime(historical_orders['order_date'])\n",
    "historical_orders['order_month'] = historical_orders['order_date'].dt.month\n",
    "historical_orders['order_year'] = historical_orders['order_date'].dt.year\n",
    "\n",
    "# Contar dias de pedido por usuário e por mês\n",
    "monthly_order_days = historical_orders.groupby(['account_id', 'order_year', 'order_month'])['order_date'].nunique().reset_index()\n",
    "monthly_order_days = monthly_order_days.rename(columns={'order_date': 'order_days'})\n",
    "\n",
    "# Mergir os dados de previsão de vendas com os dados de agosto com dias de pedido faltantes\n",
    "august_data = pd.merge(august_with_missing_order_days, august_total_sales, on='account_id', how='left')\n",
    "august_data.head()\n"
   ],
   "id": "b3fdb5109e6c5732",
   "outputs": [
    {
     "data": {
      "text/plain": [
       "       account_id  order_date  transaction_amount  \\\n",
       "0  BR_09532176632  2022-08-03               11.16   \n",
       "1  BR_09532176632  2022-08-03               32.52   \n",
       "2  BR_09532176632  2022-08-03               24.90   \n",
       "3  BR_09532176632  2022-08-03               28.50   \n",
       "4  BR_09532176632  2022-08-03               11.16   \n",
       "\n",
       "   total_transaction_amount_august  \n",
       "0                          2011.36  \n",
       "1                          2011.36  \n",
       "2                          2011.36  \n",
       "3                          2011.36  \n",
       "4                          2011.36  "
      ],
      "text/html": [
       "<div>\n",
       "<style scoped>\n",
       "    .dataframe tbody tr th:only-of-type {\n",
       "        vertical-align: middle;\n",
       "    }\n",
       "\n",
       "    .dataframe tbody tr th {\n",
       "        vertical-align: top;\n",
       "    }\n",
       "\n",
       "    .dataframe thead th {\n",
       "        text-align: right;\n",
       "    }\n",
       "</style>\n",
       "<table border=\"1\" class=\"dataframe\">\n",
       "  <thead>\n",
       "    <tr style=\"text-align: right;\">\n",
       "      <th></th>\n",
       "      <th>account_id</th>\n",
       "      <th>order_date</th>\n",
       "      <th>transaction_amount</th>\n",
       "      <th>total_transaction_amount_august</th>\n",
       "    </tr>\n",
       "  </thead>\n",
       "  <tbody>\n",
       "    <tr>\n",
       "      <th>0</th>\n",
       "      <td>BR_09532176632</td>\n",
       "      <td>2022-08-03</td>\n",
       "      <td>11.16</td>\n",
       "      <td>2011.36</td>\n",
       "    </tr>\n",
       "    <tr>\n",
       "      <th>1</th>\n",
       "      <td>BR_09532176632</td>\n",
       "      <td>2022-08-03</td>\n",
       "      <td>32.52</td>\n",
       "      <td>2011.36</td>\n",
       "    </tr>\n",
       "    <tr>\n",
       "      <th>2</th>\n",
       "      <td>BR_09532176632</td>\n",
       "      <td>2022-08-03</td>\n",
       "      <td>24.90</td>\n",
       "      <td>2011.36</td>\n",
       "    </tr>\n",
       "    <tr>\n",
       "      <th>3</th>\n",
       "      <td>BR_09532176632</td>\n",
       "      <td>2022-08-03</td>\n",
       "      <td>28.50</td>\n",
       "      <td>2011.36</td>\n",
       "    </tr>\n",
       "    <tr>\n",
       "      <th>4</th>\n",
       "      <td>BR_09532176632</td>\n",
       "      <td>2022-08-03</td>\n",
       "      <td>11.16</td>\n",
       "      <td>2011.36</td>\n",
       "    </tr>\n",
       "  </tbody>\n",
       "</table>\n",
       "</div>"
      ]
     },
     "execution_count": 5,
     "metadata": {},
     "output_type": "execute_result"
    }
   ],
   "execution_count": 5
  },
  {
   "metadata": {},
   "cell_type": "markdown",
   "source": [
    "## Análise Exploratória de Dados (EDA)\n",
    "Explorando a relação entre dias de pedidos históricos e previsões de vendas para identificar tendências ou correlações."
   ],
   "id": "5661d4ac9ce03c02"
  },
  {
   "metadata": {
    "ExecuteTime": {
     "end_time": "2024-10-25T22:20:43.211327Z",
     "start_time": "2024-10-25T22:20:37.627625Z"
    }
   },
   "cell_type": "code",
   "source": [
    "import matplotlib.pyplot as plt\n",
    "import seaborn as sns\n",
    "\n",
    "# Histograma de dias de pedidos históricos por usuário\n",
    "plt.figure(figsize=(10, 5))\n",
    "sns.histplot(monthly_order_days['order_days'], bins=20, kde=True)\n",
    "plt.title('Distribuição de Dias de Pedido Históricos por Mês')\n",
    "plt.xlabel('Dias de Pedido')\n",
    "plt.ylabel('Frequência')\n",
    "plt.show()\n",
    "\n",
    "# Análise da correlação entre dias de pedido históricos e vendas previstas em agosto\n",
    "merged_data = pd.merge(monthly_order_days, august_total_sales, on='account_id', how='inner')\n",
    "sns.scatterplot(x='order_days', y='total_transaction_amount_august', data=merged_data)\n",
    "plt.title('Correlação entre Dias de Pedido Históricos e Vendas Previstas')\n",
    "plt.xlabel('Dias de Pedido Históricos')\n",
    "plt.ylabel('Vendas Totais Previstas')\n",
    "plt.show()\n"
   ],
   "id": "36f76479b36ab65d",
   "outputs": [
    {
     "data": {
      "text/plain": [
       "<Figure size 1000x500 with 1 Axes>"
      ],
      "image/png": "[encoded data removed]"
     },
     "metadata": {},
     "output_type": "display_data"
    },
    {
     "data": {
      "text/plain": [
       "<Figure size 640x480 with 1 Axes>"
      ],
      "image/png": "[encoded data removed]"
     },
     "metadata": {},
     "output_type": "display_data"
    }
   ],
   "execution_count": 9
  },
  {
   "metadata": {},
   "cell_type": "markdown",
   "source": [
    "##  Exploração e Análise de Dados\n",
    "Agora vamos analisar os dados carregados. Isso inclui:\n",
    "\n",
    "Analisar o histórico de pedidos: Calcular o número médio de dias de pedido por mês e identificar padrões no comportamento dos usuários."
   ],
   "id": "19e6ea774654b166"
  },
  {
   "metadata": {
    "ExecuteTime": {
     "end_time": "2024-10-27T01:44:36.811357Z",
     "start_time": "2024-10-27T01:44:24.810672Z"
    }
   },
   "cell_type": "code",
   "source": [
    "# Converter as datas para o formato datetime para análise temporal\n",
    "historical_orders['order_date'] = pd.to_datetime(historical_orders['order_date'])\n",
    "august_with_missing_order_days['order_date'] = pd.to_datetime(august_with_missing_order_days['order_date'])\n",
    "\n",
    "# Adicionar colunas para o ano e mês\n",
    "historical_orders['month'] = historical_orders['order_date'].dt.month\n",
    "historical_orders['year'] = historical_orders['order_date'].dt.year\n",
    "\n",
    "# Calcular o número de dias de pedido por mês para cada usuário nos dados históricos\n",
    "user_order_days = historical_orders.groupby(['account_id', 'year', 'month'])['order_date'].nunique().reset_index()\n",
    "user_order_days.rename(columns={'order_date': 'monthly_order_days'}, inplace=True)\n",
    "display(user_order_days.head())\n"
   ],
   "id": "8bf7b5e7f301945b",
   "outputs": [
    {
     "data": {
      "text/plain": [
       "       account_id  year  month  monthly_order_days\n",
       "0  BR_00000343803  2021      1                   4\n",
       "1  BR_00000343803  2021      2                   2\n",
       "2  BR_00000343803  2021      3                   3\n",
       "3  BR_00000343803  2021      4                   1\n",
       "4  BR_00000343803  2021      5                   3"
      ],
      "text/html": [
       "<div>\n",
       "<style scoped>\n",
       "    .dataframe tbody tr th:only-of-type {\n",
       "        vertical-align: middle;\n",
       "    }\n",
       "\n",
       "    .dataframe tbody tr th {\n",
       "        vertical-align: top;\n",
       "    }\n",
       "\n",
       "    .dataframe thead th {\n",
       "        text-align: right;\n",
       "    }\n",
       "</style>\n",
       "<table border=\"1\" class=\"dataframe\">\n",
       "  <thead>\n",
       "    <tr style=\"text-align: right;\">\n",
       "      <th></th>\n",
       "      <th>account_id</th>\n",
       "      <th>year</th>\n",
       "      <th>month</th>\n",
       "      <th>monthly_order_days</th>\n",
       "    </tr>\n",
       "  </thead>\n",
       "  <tbody>\n",
       "    <tr>\n",
       "      <th>0</th>\n",
       "      <td>BR_00000343803</td>\n",
       "      <td>2021</td>\n",
       "      <td>1</td>\n",
       "      <td>4</td>\n",
       "    </tr>\n",
       "    <tr>\n",
       "      <th>1</th>\n",
       "      <td>BR_00000343803</td>\n",
       "      <td>2021</td>\n",
       "      <td>2</td>\n",
       "      <td>2</td>\n",
       "    </tr>\n",
       "    <tr>\n",
       "      <th>2</th>\n",
       "      <td>BR_00000343803</td>\n",
       "      <td>2021</td>\n",
       "      <td>3</td>\n",
       "      <td>3</td>\n",
       "    </tr>\n",
       "    <tr>\n",
       "      <th>3</th>\n",
       "      <td>BR_00000343803</td>\n",
       "      <td>2021</td>\n",
       "      <td>4</td>\n",
       "      <td>1</td>\n",
       "    </tr>\n",
       "    <tr>\n",
       "      <th>4</th>\n",
       "      <td>BR_00000343803</td>\n",
       "      <td>2021</td>\n",
       "      <td>5</td>\n",
       "      <td>3</td>\n",
       "    </tr>\n",
       "  </tbody>\n",
       "</table>\n",
       "</div>"
      ]
     },
     "metadata": {},
     "output_type": "display_data"
    }
   ],
   "execution_count": 3
  },
  {
   "metadata": {},
   "cell_type": "markdown",
   "source": "## Calcular a média e a variância dos dias de pedido para cada usuário:",
   "id": "b2142ee67e6930f0"
  },
  {
   "metadata": {
    "ExecuteTime": {
     "end_time": "2024-10-27T01:45:23.763389Z",
     "start_time": "2024-10-27T01:45:23.434893Z"
    }
   },
   "cell_type": "code",
   "source": [
    "# Estatísticas de dias de pedido para cada usuário\n",
    "user_order_stats = user_order_days.groupby('account_id')['monthly_order_days'].agg(['mean', 'std']).reset_index()\n",
    "user_order_stats.rename(columns={'mean': 'avg_order_days', 'std': 'std_order_days'}, inplace=True)\n",
    "display(user_order_stats.head())\n"
   ],
   "id": "8c4cad49ce734c72",
   "outputs": [
    {
     "data": {
      "text/plain": [
       "       account_id  avg_order_days  std_order_days\n",
       "0  BR_00000343803        2.789474        0.917663\n",
       "1  BR_00001415930        2.333333        1.527525\n",
       "2  BR_00001545205        2.555556        1.013794\n",
       "3  BR_00001760106        4.500000        0.547723\n",
       "4  BR_00002485176        3.000000        1.581139"
      ],
      "text/html": [
       "<div>\n",
       "<style scoped>\n",
       "    .dataframe tbody tr th:only-of-type {\n",
       "        vertical-align: middle;\n",
       "    }\n",
       "\n",
       "    .dataframe tbody tr th {\n",
       "        vertical-align: top;\n",
       "    }\n",
       "\n",
       "    .dataframe thead th {\n",
       "        text-align: right;\n",
       "    }\n",
       "</style>\n",
       "<table border=\"1\" class=\"dataframe\">\n",
       "  <thead>\n",
       "    <tr style=\"text-align: right;\">\n",
       "      <th></th>\n",
       "      <th>account_id</th>\n",
       "      <th>avg_order_days</th>\n",
       "      <th>std_order_days</th>\n",
       "    </tr>\n",
       "  </thead>\n",
       "  <tbody>\n",
       "    <tr>\n",
       "      <th>0</th>\n",
       "      <td>BR_00000343803</td>\n",
       "      <td>2.789474</td>\n",
       "      <td>0.917663</td>\n",
       "    </tr>\n",
       "    <tr>\n",
       "      <th>1</th>\n",
       "      <td>BR_00001415930</td>\n",
       "      <td>2.333333</td>\n",
       "      <td>1.527525</td>\n",
       "    </tr>\n",
       "    <tr>\n",
       "      <th>2</th>\n",
       "      <td>BR_00001545205</td>\n",
       "      <td>2.555556</td>\n",
       "      <td>1.013794</td>\n",
       "    </tr>\n",
       "    <tr>\n",
       "      <th>3</th>\n",
       "      <td>BR_00001760106</td>\n",
       "      <td>4.500000</td>\n",
       "      <td>0.547723</td>\n",
       "    </tr>\n",
       "    <tr>\n",
       "      <th>4</th>\n",
       "      <td>BR_00002485176</td>\n",
       "      <td>3.000000</td>\n",
       "      <td>1.581139</td>\n",
       "    </tr>\n",
       "  </tbody>\n",
       "</table>\n",
       "</div>"
      ]
     },
     "metadata": {},
     "output_type": "display_data"
    }
   ],
   "execution_count": 4
  },
  {
   "metadata": {},
   "cell_type": "markdown",
   "source": [
    "## Engenharia de Atributos\n",
    "Criando atributos que ajudarão o modelo a prever os dias de pedido restantes, como:\n",
    "\n",
    "Dias restantes em agosto.\n",
    "Total de vendas previsto."
   ],
   "id": "c23d3f774e6fa872"
  },
  {
   "metadata": {
    "ExecuteTime": {
     "end_time": "2024-10-27T01:47:19.696144Z",
     "start_time": "2024-10-27T01:47:16.013045Z"
    }
   },
   "cell_type": "code",
   "source": [
    "# Calcular dias de pedido conhecidos em agosto para cada usuário\n",
    "august_order_days = august_with_missing_order_days.groupby('account_id')['order_date'].nunique().reset_index()\n",
    "august_order_days.rename(columns={'order_date': 'current_order_days'}, inplace=True)\n",
    "\n",
    "# Unir dados estatísticos de cada usuário\n",
    "august_stats = pd.merge(user_order_stats, august_order_days, on='account_id', how='left')\n",
    "august_stats['remaining_order_days'] = august_stats['avg_order_days'] - august_stats['current_order_days'].fillna(0)\n",
    "august_stats['remaining_order_days'] = august_stats['remaining_order_days'].apply(lambda x: max(x, 0)) # garantir que não sejam valores negativos\n",
    "\n",
    "# Calcular dias restantes no mês de agosto\n",
    "august_stats['remaining_days_in_month'] = 31 - august_stats['current_order_days'].fillna(0)\n",
    "\n",
    "# Unir com as previsões de vendas para agosto\n",
    "august_stats = pd.merge(august_stats, august_total_sales, on='account_id', how='left')\n",
    "display(august_stats.head())\n"
   ],
   "id": "16647ba50304923b",
   "outputs": [
    {
     "data": {
      "text/plain": [
       "       account_id  avg_order_days  std_order_days  current_order_days  \\\n",
       "0  BR_00000343803        2.789474        0.917663                 0.0   \n",
       "1  BR_00001415930        2.333333        1.527525                 0.0   \n",
       "2  BR_00001545205        2.555556        1.013794                 NaN   \n",
       "3  BR_00001760106        4.500000        0.547723                 0.0   \n",
       "4  BR_00002485176        3.000000        1.581139                 2.0   \n",
       "\n",
       "   remaining_order_days  remaining_days_in_month  \\\n",
       "0              2.789474                     31.0   \n",
       "1              2.333333                     31.0   \n",
       "2              2.555556                     31.0   \n",
       "3              4.500000                     31.0   \n",
       "4              1.000000                     29.0   \n",
       "\n",
       "   total_transaction_amount_august  \n",
       "0                           309.99  \n",
       "1                           874.98  \n",
       "2                              NaN  \n",
       "3                         11976.70  \n",
       "4                           511.48  "
      ],
      "text/html": [
       "<div>\n",
       "<style scoped>\n",
       "    .dataframe tbody tr th:only-of-type {\n",
       "        vertical-align: middle;\n",
       "    }\n",
       "\n",
       "    .dataframe tbody tr th {\n",
       "        vertical-align: top;\n",
       "    }\n",
       "\n",
       "    .dataframe thead th {\n",
       "        text-align: right;\n",
       "    }\n",
       "</style>\n",
       "<table border=\"1\" class=\"dataframe\">\n",
       "  <thead>\n",
       "    <tr style=\"text-align: right;\">\n",
       "      <th></th>\n",
       "      <th>account_id</th>\n",
       "      <th>avg_order_days</th>\n",
       "      <th>std_order_days</th>\n",
       "      <th>current_order_days</th>\n",
       "      <th>remaining_order_days</th>\n",
       "      <th>remaining_days_in_month</th>\n",
       "      <th>total_transaction_amount_august</th>\n",
       "    </tr>\n",
       "  </thead>\n",
       "  <tbody>\n",
       "    <tr>\n",
       "      <th>0</th>\n",
       "      <td>BR_00000343803</td>\n",
       "      <td>2.789474</td>\n",
       "      <td>0.917663</td>\n",
       "      <td>0.0</td>\n",
       "      <td>2.789474</td>\n",
       "      <td>31.0</td>\n",
       "      <td>309.99</td>\n",
       "    </tr>\n",
       "    <tr>\n",
       "      <th>1</th>\n",
       "      <td>BR_00001415930</td>\n",
       "      <td>2.333333</td>\n",
       "      <td>1.527525</td>\n",
       "      <td>0.0</td>\n",
       "      <td>2.333333</td>\n",
       "      <td>31.0</td>\n",
       "      <td>874.98</td>\n",
       "    </tr>\n",
       "    <tr>\n",
       "      <th>2</th>\n",
       "      <td>BR_00001545205</td>\n",
       "      <td>2.555556</td>\n",
       "      <td>1.013794</td>\n",
       "      <td>NaN</td>\n",
       "      <td>2.555556</td>\n",
       "      <td>31.0</td>\n",
       "      <td>NaN</td>\n",
       "    </tr>\n",
       "    <tr>\n",
       "      <th>3</th>\n",
       "      <td>BR_00001760106</td>\n",
       "      <td>4.500000</td>\n",
       "      <td>0.547723</td>\n",
       "      <td>0.0</td>\n",
       "      <td>4.500000</td>\n",
       "      <td>31.0</td>\n",
       "      <td>11976.70</td>\n",
       "    </tr>\n",
       "    <tr>\n",
       "      <th>4</th>\n",
       "      <td>BR_00002485176</td>\n",
       "      <td>3.000000</td>\n",
       "      <td>1.581139</td>\n",
       "      <td>2.0</td>\n",
       "      <td>1.000000</td>\n",
       "      <td>29.0</td>\n",
       "      <td>511.48</td>\n",
       "    </tr>\n",
       "  </tbody>\n",
       "</table>\n",
       "</div>"
      ]
     },
     "metadata": {},
     "output_type": "display_data"
    }
   ],
   "execution_count": 5
  },
  {
   "metadata": {},
   "cell_type": "markdown",
   "source": [
    "# Previsão de Dias Restantes de Pedido para Agosto de 2022\n",
    "\n",
    "## Objetivo\n",
    "Prever o número de dias de pedido restantes para cada usuário ao longo do mês de agosto de 2022, usando:\n",
    "1. Os dias de pedido conhecidos no arquivo `august_with_missing_order_days.parquet`.\n",
    "2. O histórico de pedidos mensais dos usuários (`historical_orders.parquet`).\n",
    "3. O total de vendas previstas para o mês de agosto (`august_total_sales.parquet`).\n",
    "\n",
    "## Estratégia de Solução\n",
    "\n",
    "### Etapa 1: Estimar a Quantidade Total de Dias de Pedido no Mês\n",
    "Usando a média histórica de dias de pedido por usuário calculada a partir do arquivo `historical_orders.parquet` e ajustando essa média com o valor total de vendas previsto para agosto (`august_total_sales.parquet`). Essa etapa fornece uma previsão inicial do número total de dias de pedido esperados para cada usuário ao longo do mês.\n",
    "\n",
    "### Etapa 2: Atualizar a Previsão dos Dias Restantes\n",
    "À medida que novos dias de pedido são conhecidos ao longo do mês, atualizamos a previsão para refletir o número de dias restantes de pedido. Subtraímos o número de dias conhecidos do total previsto para cada usuário, garantindo que o valor dos dias restantes nunca seja negativo.\n",
    "\n"
   ],
   "id": "f7863c264d1deffe"
  },
  {
   "metadata": {
    "ExecuteTime": {
     "end_time": "2024-10-27T03:23:33.663857Z",
     "start_time": "2024-10-27T03:23:30.370773Z"
    }
   },
   "cell_type": "code",
   "source": [
    "# Função para prever o número total de dias de pedido no início do mês\n",
    "def predict_total_order_days(avg_order_days, total_sales_august, sales_ratio=0.5):\n",
    "    \"\"\"\n",
    "    Calcula a previsão de dias totais de pedido para o mês com base na média histórica\n",
    "    de dias de pedido e no total de vendas previsto para agosto.\n",
    "\n",
    "    Parâmetros:\n",
    "        avg_order_days (float): Média de dias de pedido do usuário em meses anteriores.\n",
    "        total_sales_august (float): Total de vendas previsto para o usuário em agosto.\n",
    "        sales_ratio (float): Fator de ajuste para ponderar a média com base nas vendas.\n",
    "\n",
    "    Retorno:\n",
    "        int: Número total previsto de dias de pedido no mês.\n",
    "    \"\"\"\n",
    "    predicted_days = avg_order_days * sales_ratio\n",
    "    return max(1, round(predicted_days))\n",
    "\n",
    "# Adicionar uma nova coluna para previsão do total de dias de pedido para agosto\n",
    "august_stats['predicted_total_order_days'] = august_stats.apply(\n",
    "    lambda row: predict_total_order_days(row['avg_order_days'], row['total_transaction_amount_august']), axis=1\n",
    ")\n",
    "\n",
    "# Exibir as previsões iniciais de dias de pedido para o mês\n",
    "display(august_stats[['account_id', 'avg_order_days', 'total_transaction_amount_august', 'predicted_total_order_days']].head())\n"
   ],
   "id": "24ab073ec41230a0",
   "outputs": [
    {
     "data": {
      "text/plain": [
       "       account_id  avg_order_days  total_transaction_amount_august  \\\n",
       "0  BR_00000343803        2.789474                           309.99   \n",
       "1  BR_00001415930        2.333333                           874.98   \n",
       "2  BR_00001545205        2.555556                              NaN   \n",
       "3  BR_00001760106        4.500000                         11976.70   \n",
       "4  BR_00002485176        3.000000                           511.48   \n",
       "\n",
       "   predicted_total_order_days  \n",
       "0                           1  \n",
       "1                           1  \n",
       "2                           1  \n",
       "3                           2  \n",
       "4                           2  "
      ],
      "text/html": [
       "<div>\n",
       "<style scoped>\n",
       "    .dataframe tbody tr th:only-of-type {\n",
       "        vertical-align: middle;\n",
       "    }\n",
       "\n",
       "    .dataframe tbody tr th {\n",
       "        vertical-align: top;\n",
       "    }\n",
       "\n",
       "    .dataframe thead th {\n",
       "        text-align: right;\n",
       "    }\n",
       "</style>\n",
       "<table border=\"1\" class=\"dataframe\">\n",
       "  <thead>\n",
       "    <tr style=\"text-align: right;\">\n",
       "      <th></th>\n",
       "      <th>account_id</th>\n",
       "      <th>avg_order_days</th>\n",
       "      <th>total_transaction_amount_august</th>\n",
       "      <th>predicted_total_order_days</th>\n",
       "    </tr>\n",
       "  </thead>\n",
       "  <tbody>\n",
       "    <tr>\n",
       "      <th>0</th>\n",
       "      <td>BR_00000343803</td>\n",
       "      <td>2.789474</td>\n",
       "      <td>309.99</td>\n",
       "      <td>1</td>\n",
       "    </tr>\n",
       "    <tr>\n",
       "      <th>1</th>\n",
       "      <td>BR_00001415930</td>\n",
       "      <td>2.333333</td>\n",
       "      <td>874.98</td>\n",
       "      <td>1</td>\n",
       "    </tr>\n",
       "    <tr>\n",
       "      <th>2</th>\n",
       "      <td>BR_00001545205</td>\n",
       "      <td>2.555556</td>\n",
       "      <td>NaN</td>\n",
       "      <td>1</td>\n",
       "    </tr>\n",
       "    <tr>\n",
       "      <th>3</th>\n",
       "      <td>BR_00001760106</td>\n",
       "      <td>4.500000</td>\n",
       "      <td>11976.70</td>\n",
       "      <td>2</td>\n",
       "    </tr>\n",
       "    <tr>\n",
       "      <th>4</th>\n",
       "      <td>BR_00002485176</td>\n",
       "      <td>3.000000</td>\n",
       "      <td>511.48</td>\n",
       "      <td>2</td>\n",
       "    </tr>\n",
       "  </tbody>\n",
       "</table>\n",
       "</div>"
      ]
     },
     "metadata": {},
     "output_type": "display_data"
    }
   ],
   "execution_count": 18
  },
  {
   "metadata": {},
   "cell_type": "markdown",
   "source": "## Atualizar a Previsão dos Dias Restantes",
   "id": "c6dcdf1cc9a1313b"
  },
  {
   "metadata": {
    "ExecuteTime": {
     "end_time": "2024-10-27T03:24:22.181180Z",
     "start_time": "2024-10-27T03:24:22.031846Z"
    }
   },
   "cell_type": "code",
   "source": [
    "# Atualizar a previsão dos dias restantes de pedido\n",
    "august_stats['predicted_remaining_order_days'] = august_stats['predicted_total_order_days'] - august_stats['current_order_days']\n",
    "\n",
    "# Garantir que a previsão dos dias restantes nunca seja negativa\n",
    "august_stats['predicted_remaining_order_days'] = august_stats['predicted_remaining_order_days'].apply(lambda x: max(0, x))\n",
    "\n",
    "# Exibir as previsões finais, incluindo dias totais previstos, dias já conhecidos e dias restantes\n",
    "display(august_stats[['account_id', 'predicted_total_order_days', 'current_order_days', 'predicted_remaining_order_days']].head())\n"
   ],
   "id": "61efa9a463d10621",
   "outputs": [
    {
     "data": {
      "text/plain": [
       "       account_id  predicted_total_order_days  current_order_days  \\\n",
       "0  BR_00000343803                           1                 0.0   \n",
       "1  BR_00001415930                           1                 0.0   \n",
       "2  BR_00001545205                           1                 NaN   \n",
       "3  BR_00001760106                           2                 0.0   \n",
       "4  BR_00002485176                           2                 2.0   \n",
       "\n",
       "   predicted_remaining_order_days  \n",
       "0                             1.0  \n",
       "1                             1.0  \n",
       "2                             0.0  \n",
       "3                             2.0  \n",
       "4                             0.0  "
      ],
      "text/html": [
       "<div>\n",
       "<style scoped>\n",
       "    .dataframe tbody tr th:only-of-type {\n",
       "        vertical-align: middle;\n",
       "    }\n",
       "\n",
       "    .dataframe tbody tr th {\n",
       "        vertical-align: top;\n",
       "    }\n",
       "\n",
       "    .dataframe thead th {\n",
       "        text-align: right;\n",
       "    }\n",
       "</style>\n",
       "<table border=\"1\" class=\"dataframe\">\n",
       "  <thead>\n",
       "    <tr style=\"text-align: right;\">\n",
       "      <th></th>\n",
       "      <th>account_id</th>\n",
       "      <th>predicted_total_order_days</th>\n",
       "      <th>current_order_days</th>\n",
       "      <th>predicted_remaining_order_days</th>\n",
       "    </tr>\n",
       "  </thead>\n",
       "  <tbody>\n",
       "    <tr>\n",
       "      <th>0</th>\n",
       "      <td>BR_00000343803</td>\n",
       "      <td>1</td>\n",
       "      <td>0.0</td>\n",
       "      <td>1.0</td>\n",
       "    </tr>\n",
       "    <tr>\n",
       "      <th>1</th>\n",
       "      <td>BR_00001415930</td>\n",
       "      <td>1</td>\n",
       "      <td>0.0</td>\n",
       "      <td>1.0</td>\n",
       "    </tr>\n",
       "    <tr>\n",
       "      <th>2</th>\n",
       "      <td>BR_00001545205</td>\n",
       "      <td>1</td>\n",
       "      <td>NaN</td>\n",
       "      <td>0.0</td>\n",
       "    </tr>\n",
       "    <tr>\n",
       "      <th>3</th>\n",
       "      <td>BR_00001760106</td>\n",
       "      <td>2</td>\n",
       "      <td>0.0</td>\n",
       "      <td>2.0</td>\n",
       "    </tr>\n",
       "    <tr>\n",
       "      <th>4</th>\n",
       "      <td>BR_00002485176</td>\n",
       "      <td>2</td>\n",
       "      <td>2.0</td>\n",
       "      <td>0.0</td>\n",
       "    </tr>\n",
       "  </tbody>\n",
       "</table>\n",
       "</div>"
      ]
     },
     "metadata": {},
     "output_type": "display_data"
    }
   ],
   "execution_count": 19
  },
  {
   "metadata": {},
   "cell_type": "markdown",
   "source": [
    "## Explicação das Etapas\n",
    "\n",
    "1. **Função `predict_total_order_days`**: Calcula o número total previsto de dias de pedido no mês para cada usuário, com base na média histórica de dias de pedido (`avg_order_days`) e no total de vendas previsto para agosto (`total_sales_august`). A função usa um fator de ajuste (`sales_ratio`) para ponderar a média com base nas vendas, e arredonda o valor para garantir que o mínimo de dias previsto seja 1.\n",
    "\n",
    "2. **Previsão de Dias Restantes**: Subtrai os dias de pedido já conhecidos (`current_order_days`) do total previsto (`predicted_total_order_days`) para calcular o número de dias de pedido restantes para o mês. A função `max(0, x)` é aplicada para garantir que o valor dos dias restantes não seja negativo.\n",
    "\n",
    "3. **Resultados**: O DataFrame `august_stats` contém as colunas `predicted_total_order_days` (previsão inicial de dias de pedido no início do mês), `current_order_days` (dias conhecidos até o momento) e `predicted_remaining_order_days` (dias de pedido restantes estimados para o mês).\n",
    "\n",
    "---\n",
    "\n",
    "## Conclusão\n",
    "Com essas etapas, é possível realizar a previsão dinâmica dos dias de pedido restantes ao longo do mês para cada usuário, conforme novos dados de pedidos se tornam disponíveis. Esse modelo pode ajudar a logística a alocar recursos de maneira mais eficiente.\n"
   ],
   "id": "24aa176502a0e17c"
  },
  {
   "metadata": {},
   "cell_type": "markdown",
   "source": [
    "## Analisar Distribuição dos Dias de Pedido Restantes\n",
    "Uma análise da distribuição dos dias de pedido restantes pode dar insights sobre a variação entre os usuários e confirmar a plausibilidade das previsões."
   ],
   "id": "b1d7cdfe1661f5f1"
  },
  {
   "metadata": {
    "ExecuteTime": {
     "end_time": "2024-10-27T03:31:23.336796Z",
     "start_time": "2024-10-27T03:31:19.889261Z"
    }
   },
   "cell_type": "code",
   "source": [
    "import matplotlib.pyplot as plt\n",
    "import seaborn as sns\n",
    "\n",
    "plt.figure(figsize=(10, 6))\n",
    "sns.histplot(august_stats['predicted_remaining_order_days'], bins=20, kde=True)\n",
    "plt.title(\"Distribuição dos Dias de Pedido Restantes (Previsão)\")\n",
    "plt.xlabel(\"Dias de Pedido Restantes\")\n",
    "plt.ylabel(\"Frequência\")\n",
    "plt.show()\n"
   ],
   "id": "3539dc5018c26ab2",
   "outputs": [
    {
     "data": {
      "text/plain": [
       "<Figure size 1000x600 with 1 Axes>"
      ],
      "image/png": "[encoded data removed]"
     },
     "metadata": {},
     "output_type": "display_data"
    }
   ],
   "execution_count": 20
  },
  {
   "metadata": {},
   "cell_type": "markdown",
   "source": [
    "## Questão 2: Explorar a Distribuição dos Dias de Pedido\n",
    "\n",
    "### 2a. Descrever a Distribuição dos Dias de Pedido\n",
    "\n",
    "Descrevendo a distribuição do número de dias de pedido de um usuário (ou grupo de usuários), usando uma **distribuição de Poisson**. Esta é uma distribuição de contagem apropriada para modelar a ocorrência de eventos discretos (dias de pedido) em um intervalo fixo (um mês).\n",
    "\n",
    "A **função de massa de probabilidade (PMF)** da distribuição de Poisson é:\n",
    "\n",
    "\\[\n",
    "P(X = k) = \\frac{\\lambda^k e^{-\\lambda}}{k!}\n",
    "\\]\n",
    "\n",
    "onde:\n",
    "- \\( X \\) é o número de dias de pedido,\n",
    "- \\( k \\) é o número de dias de pedido observado,\n",
    "- \\( \\lambda \\) é o parâmetro que representa a média de dias de pedido por mês.\n",
    "\n",
    "### 2b. Estimar o Parâmetro da Distribuição\n",
    "\n",
    "Para estimar o parâmetro \\(\\lambda\\), usando a média dos dias de pedido nos dados históricos:\n",
    "\n"
   ],
   "id": "448ad194ef278102"
  },
  {
   "metadata": {},
   "cell_type": "markdown",
   "source": "",
   "id": "a282c55bf6fca7d5"
  },
  {
   "metadata": {
    "ExecuteTime": {
     "end_time": "2024-10-27T03:39:48.524096Z",
     "start_time": "2024-10-27T03:39:48.061085Z"
    }
   },
   "cell_type": "code",
   "source": [
    "# Calcular o parâmetro lambda como a média dos dias de pedido históricos\n",
    "lambda_estimate = user_order_days['monthly_order_days'].mean()\n",
    "print(\"Estimativa de lambda (média dos dias de pedido por mês):\", lambda_estimate)"
   ],
   "id": "af3bacdd2ac112ea",
   "outputs": [
    {
     "name": "stdout",
     "output_type": "stream",
     "text": [
      "Estimativa de lambda (média dos dias de pedido por mês): 3.4303911467827115\n"
     ]
    }
   ],
   "execution_count": 21
  },
  {
   "metadata": {},
   "cell_type": "markdown",
   "source": [
    "## 2c. Calcular a Probabilidade de Ter Mais de 4 Dias de Pedido\n",
    "\n",
    "Queremos calcular a probabilidade de um usuário ter **mais de 4 dias de pedido** em um mês, assumindo que o número de dias de pedido segue uma distribuição de Poisson com média \\(\\lambda\\).\n",
    "\n",
    "A probabilidade de ter mais de 4 dias de pedido é dada por:\n",
    "\n",
    "\\[\n",
    "P(X > 4) = 1 - P(X \\leq 4)\n",
    "\\]\n",
    "\n",
    "onde \\( P(X \\leq 4) \\) pode ser calculado somando as probabilidades individuais de \\( P(X = 0) \\), \\( P(X = 1) \\), ..., \\( P(X = 4) \\).\n",
    "\n",
    "Vamos usar a função `poisson.cdf` do `scipy.stats` para calcular \\( P(X \\leq 4) \\) e, em seguida, determinar \\( P(X > 4) \\).\n"
   ],
   "id": "e0e8811a116d7841"
  },
  {
   "metadata": {
    "ExecuteTime": {
     "end_time": "2024-10-27T03:46:24.516856Z",
     "start_time": "2024-10-27T03:46:19.117571Z"
    }
   },
   "cell_type": "code",
   "source": [
    "from scipy.stats import poisson\n",
    "\n",
    "# Probabilidade de ter mais de 4 dias de pedido\n",
    "p_more_than_4 = 1 - poisson.cdf(4, lambda_estimate)\n",
    "print(\"Probabilidade de ter mais de 4 dias de pedido:\", p_more_than_4)\n"
   ],
   "id": "242f3a5ae5268a40",
   "outputs": [
    {
     "name": "stdout",
     "output_type": "stream",
     "text": [
      "Probabilidade de ter mais de 4 dias de pedido: 0.2614806455560814\n"
     ]
    }
   ],
   "execution_count": 22
  },
  {
   "metadata": {},
   "cell_type": "markdown",
   "source": [
    "## 2d. Estimar o Tempo Entre Dias de Pedido\n",
    "\n",
    "Agora, estimando o **tempo médio entre dias de pedido** para cada usuário.\n",
    "\n",
    "Para uma distribuição de Poisson, o tempo entre eventos segue uma **distribuição exponencial** com parâmetro \\(\\lambda\\). A média do tempo entre eventos em uma distribuição exponencial é dada por:\n",
    "\n",
    "\\[\n",
    "E(T) = \\frac{1}{\\lambda}\n",
    "\\]\n",
    "\n",
    "onde \\( T \\) é o tempo médio entre dias de pedido.\n",
    "\n",
    "Assim, calculamos o tempo médio entre dias de pedido como a inversa de \\(\\lambda\\).\n"
   ],
   "id": "bfecb84408e397e0"
  },
  {
   "metadata": {
    "ExecuteTime": {
     "end_time": "2024-10-27T03:47:53.972308Z",
     "start_time": "2024-10-27T03:47:53.894467Z"
    }
   },
   "cell_type": "code",
   "source": [
    "# Calcular o tempo médio entre dias de pedido\n",
    "average_time_between_orders = 1 / lambda_estimate\n",
    "print(\"Tempo médio entre dias de pedido:\", average_time_between_orders)\n"
   ],
   "id": "785ca52236f39d1",
   "outputs": [
    {
     "name": "stdout",
     "output_type": "stream",
     "text": [
      "Tempo médio entre dias de pedido: 0.2915119463673634\n"
     ]
    }
   ],
   "execution_count": 23
  },
  {
   "metadata": {},
   "cell_type": "code",
   "outputs": [],
   "execution_count": null,
   "source": "",
   "id": "886958f83417a7dd"
  }
 ],
 "metadata": {
  "kernelspec": {
   "display_name": "Python 3",
   "language": "python",
   "name": "python3"
  },
  "language_info": {
   "codemirror_mode": {
    "name": "ipython",
    "version": 2
   },
   "file_extension": ".py",
   "mimetype": "text/x-python",
   "name": "python",
   "nbconvert_exporter": "python",
   "pygments_lexer": "ipython2",
   "version": "2.7.6"
  }
 },
 "nbformat": 4,
 "nbformat_minor": 5
}
