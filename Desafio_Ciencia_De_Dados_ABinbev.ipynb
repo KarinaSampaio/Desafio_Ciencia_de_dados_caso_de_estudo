{
 "cells": [
  {
   "metadata": {
    "ExecuteTime": {
     "end_time": "2024-10-14T16:22:13.498907Z",
     "start_time": "2024-10-14T16:22:13.437404Z"
    }
   },
   "cell_type": "code",
   "source": [
    "# Importando as bibliotecas\n",
    "import pandas as pd\n",
    "import numpy as np\n",
    "import matplotlib.pyplot as plt\n",
    "import seaborn as sns\n",
    "\n",
    "# Definir configurações de exibição\n",
    "pd.set_option('display.max_columns', None)\n"
   ],
   "id": "3d3763498efc97b7",
   "outputs": [],
   "execution_count": 5
  },
  {
   "metadata": {},
   "cell_type": "markdown",
   "source": "## Questão 1\n",
   "id": "76490ad6245bdcdb"
  },
  {
   "metadata": {},
   "cell_type": "markdown",
   "source": "## Carregamento de Dados",
   "id": "3e2c23565372e34f"
  },
  {
   "metadata": {
    "ExecuteTime": {
     "end_time": "2024-10-14T16:23:27.534666Z",
     "start_time": "2024-10-14T16:23:21.299797Z"
    }
   },
   "cell_type": "code",
   "source": [
    "# Carregar os dados\n",
    "august_total_sales = pd.read_csv(\"C:/Users/karin/Downloads/data_files_challenge (2)/august_total_sales.csv\")\n",
    "august_with_missing_order_days = pd.read_csv(\"C:/Users/karin/Downloads/data_files_challenge (2)/august_with_missing_order_days.csv\")\n",
    "historical_orders = pd.read_csv(\"C:/Users/karin/Downloads/data_files_challenge (2)/historical_orders.csv\")\n",
    "\n",
    "# Exibir uma amostra dos dados\n",
    "print(\"Dados de total de vendas em agosto:\")\n",
    "display(august_total_sales.head())\n",
    "\n",
    "print(\"Dados com dias de pedidos faltantes para agosto:\")\n",
    "display(august_with_missing_order_days.head())\n",
    "\n",
    "print(\"Histórico de pedidos dos usuários:\")\n",
    "display(historical_orders.head())\n"
   ],
   "id": "6a92b92f409de812",
   "outputs": [
    {
     "name": "stdout",
     "output_type": "stream",
     "text": [
      "Dados de total de vendas em agosto:\n"
     ]
    },
    {
     "data": {
      "text/plain": [
       "       account_id  total_transaction_amount_august\n",
       "0  BR_00000343803                           309.99\n",
       "1  BR_00001415930                           874.98\n",
       "2  BR_00001760106                         11976.70\n",
       "3  BR_00002485176                           511.48\n",
       "4  BR_00002536340                          7081.14"
      ],
      "text/html": [
       "<div>\n",
       "<style scoped>\n",
       "    .dataframe tbody tr th:only-of-type {\n",
       "        vertical-align: middle;\n",
       "    }\n",
       "\n",
       "    .dataframe tbody tr th {\n",
       "        vertical-align: top;\n",
       "    }\n",
       "\n",
       "    .dataframe thead th {\n",
       "        text-align: right;\n",
       "    }\n",
       "</style>\n",
       "<table border=\"1\" class=\"dataframe\">\n",
       "  <thead>\n",
       "    <tr style=\"text-align: right;\">\n",
       "      <th></th>\n",
       "      <th>account_id</th>\n",
       "      <th>total_transaction_amount_august</th>\n",
       "    </tr>\n",
       "  </thead>\n",
       "  <tbody>\n",
       "    <tr>\n",
       "      <th>0</th>\n",
       "      <td>BR_00000343803</td>\n",
       "      <td>309.99</td>\n",
       "    </tr>\n",
       "    <tr>\n",
       "      <th>1</th>\n",
       "      <td>BR_00001415930</td>\n",
       "      <td>874.98</td>\n",
       "    </tr>\n",
       "    <tr>\n",
       "      <th>2</th>\n",
       "      <td>BR_00001760106</td>\n",
       "      <td>11976.70</td>\n",
       "    </tr>\n",
       "    <tr>\n",
       "      <th>3</th>\n",
       "      <td>BR_00002485176</td>\n",
       "      <td>511.48</td>\n",
       "    </tr>\n",
       "    <tr>\n",
       "      <th>4</th>\n",
       "      <td>BR_00002536340</td>\n",
       "      <td>7081.14</td>\n",
       "    </tr>\n",
       "  </tbody>\n",
       "</table>\n",
       "</div>"
      ]
     },
     "metadata": {},
     "output_type": "display_data"
    },
    {
     "name": "stdout",
     "output_type": "stream",
     "text": [
      "Dados com dias de pedidos faltantes para agosto:\n"
     ]
    },
    {
     "data": {
      "text/plain": [
       "       account_id  order_date  transaction_amount\n",
       "0  BR_09532176632  2022-08-03               11.16\n",
       "1  BR_09532176632  2022-08-03               32.52\n",
       "2  BR_09532176632  2022-08-03               24.90\n",
       "3  BR_09532176632  2022-08-03               28.50\n",
       "4  BR_09532176632  2022-08-03               11.16"
      ],
      "text/html": [
       "<div>\n",
       "<style scoped>\n",
       "    .dataframe tbody tr th:only-of-type {\n",
       "        vertical-align: middle;\n",
       "    }\n",
       "\n",
       "    .dataframe tbody tr th {\n",
       "        vertical-align: top;\n",
       "    }\n",
       "\n",
       "    .dataframe thead th {\n",
       "        text-align: right;\n",
       "    }\n",
       "</style>\n",
       "<table border=\"1\" class=\"dataframe\">\n",
       "  <thead>\n",
       "    <tr style=\"text-align: right;\">\n",
       "      <th></th>\n",
       "      <th>account_id</th>\n",
       "      <th>order_date</th>\n",
       "      <th>transaction_amount</th>\n",
       "    </tr>\n",
       "  </thead>\n",
       "  <tbody>\n",
       "    <tr>\n",
       "      <th>0</th>\n",
       "      <td>BR_09532176632</td>\n",
       "      <td>2022-08-03</td>\n",
       "      <td>11.16</td>\n",
       "    </tr>\n",
       "    <tr>\n",
       "      <th>1</th>\n",
       "      <td>BR_09532176632</td>\n",
       "      <td>2022-08-03</td>\n",
       "      <td>32.52</td>\n",
       "    </tr>\n",
       "    <tr>\n",
       "      <th>2</th>\n",
       "      <td>BR_09532176632</td>\n",
       "      <td>2022-08-03</td>\n",
       "      <td>24.90</td>\n",
       "    </tr>\n",
       "    <tr>\n",
       "      <th>3</th>\n",
       "      <td>BR_09532176632</td>\n",
       "      <td>2022-08-03</td>\n",
       "      <td>28.50</td>\n",
       "    </tr>\n",
       "    <tr>\n",
       "      <th>4</th>\n",
       "      <td>BR_09532176632</td>\n",
       "      <td>2022-08-03</td>\n",
       "      <td>11.16</td>\n",
       "    </tr>\n",
       "  </tbody>\n",
       "</table>\n",
       "</div>"
      ]
     },
     "metadata": {},
     "output_type": "display_data"
    },
    {
     "name": "stdout",
     "output_type": "stream",
     "text": [
      "Histórico de pedidos dos usuários:\n"
     ]
    },
    {
     "data": {
      "text/plain": [
       "          account_id  order_date  transaction_amount  __index_level_0__\n",
       "0  BR_09607801000194  2021-08-28             11011.2                  0\n",
       "1  BR_09607801000194  2021-08-28             13764.0                  1\n",
       "2  BR_09607801000194  2021-08-28             11011.2                  2\n",
       "3  BR_09607801000194  2021-08-28             11011.2                  3\n",
       "4  BR_09607801000194  2021-08-28             13764.0                  4"
      ],
      "text/html": [
       "<div>\n",
       "<style scoped>\n",
       "    .dataframe tbody tr th:only-of-type {\n",
       "        vertical-align: middle;\n",
       "    }\n",
       "\n",
       "    .dataframe tbody tr th {\n",
       "        vertical-align: top;\n",
       "    }\n",
       "\n",
       "    .dataframe thead th {\n",
       "        text-align: right;\n",
       "    }\n",
       "</style>\n",
       "<table border=\"1\" class=\"dataframe\">\n",
       "  <thead>\n",
       "    <tr style=\"text-align: right;\">\n",
       "      <th></th>\n",
       "      <th>account_id</th>\n",
       "      <th>order_date</th>\n",
       "      <th>transaction_amount</th>\n",
       "      <th>__index_level_0__</th>\n",
       "    </tr>\n",
       "  </thead>\n",
       "  <tbody>\n",
       "    <tr>\n",
       "      <th>0</th>\n",
       "      <td>BR_09607801000194</td>\n",
       "      <td>2021-08-28</td>\n",
       "      <td>11011.2</td>\n",
       "      <td>0</td>\n",
       "    </tr>\n",
       "    <tr>\n",
       "      <th>1</th>\n",
       "      <td>BR_09607801000194</td>\n",
       "      <td>2021-08-28</td>\n",
       "      <td>13764.0</td>\n",
       "      <td>1</td>\n",
       "    </tr>\n",
       "    <tr>\n",
       "      <th>2</th>\n",
       "      <td>BR_09607801000194</td>\n",
       "      <td>2021-08-28</td>\n",
       "      <td>11011.2</td>\n",
       "      <td>2</td>\n",
       "    </tr>\n",
       "    <tr>\n",
       "      <th>3</th>\n",
       "      <td>BR_09607801000194</td>\n",
       "      <td>2021-08-28</td>\n",
       "      <td>11011.2</td>\n",
       "      <td>3</td>\n",
       "    </tr>\n",
       "    <tr>\n",
       "      <th>4</th>\n",
       "      <td>BR_09607801000194</td>\n",
       "      <td>2021-08-28</td>\n",
       "      <td>13764.0</td>\n",
       "      <td>4</td>\n",
       "    </tr>\n",
       "  </tbody>\n",
       "</table>\n",
       "</div>"
      ]
     },
     "metadata": {},
     "output_type": "display_data"
    }
   ],
   "execution_count": 6
  },
  {
   "metadata": {},
   "cell_type": "markdown",
   "source": "## Análise Exploratória dos Dados",
   "id": "e038e9b1dc430041"
  },
  {
   "metadata": {
    "ExecuteTime": {
     "end_time": "2024-10-14T16:24:01.518984Z",
     "start_time": "2024-10-14T16:23:58.732432Z"
    }
   },
   "cell_type": "code",
   "source": [
    "# Converter as colunas de datas para o tipo datetime\n",
    "historical_orders['order_date'] = pd.to_datetime(historical_orders['order_date'])\n",
    "august_with_missing_order_days['order_date'] = pd.to_datetime(august_with_missing_order_days['order_date'])\n",
    "\n",
    "# Verificar a conversão\n",
    "print(\"Tipos de dados após a conversão de datas:\")\n",
    "print(historical_orders.dtypes)\n",
    "print(august_with_missing_order_days.dtypes)\n"
   ],
   "id": "7434338d76856fa8",
   "outputs": [
    {
     "name": "stdout",
     "output_type": "stream",
     "text": [
      "Tipos de dados após a conversão de datas:\n",
      "account_id                    object\n",
      "order_date            datetime64[ns]\n",
      "transaction_amount           float64\n",
      "__index_level_0__              int64\n",
      "dtype: object\n",
      "account_id                    object\n",
      "order_date            datetime64[ns]\n",
      "transaction_amount           float64\n",
      "dtype: object\n"
     ]
    }
   ],
   "execution_count": 7
  },
  {
   "metadata": {},
   "cell_type": "markdown",
   "source": "## Análise dos Pedidos Históricos",
   "id": "f5eab03b42808ff2"
  },
  {
   "metadata": {
    "ExecuteTime": {
     "end_time": "2024-10-14T16:25:23.009328Z",
     "start_time": "2024-10-14T16:25:08.239304Z"
    }
   },
   "cell_type": "code",
   "source": [
    "# Agrupar os pedidos históricos por usuário e contar os dias únicos de pedidos\n",
    "historical_order_days = historical_orders.groupby('account_id')['order_date'].nunique().reset_index()\n",
    "historical_order_days.columns = ['account_id', 'historical_order_days']\n",
    "\n",
    "# Exibir os dados de dias únicos de pedidos no histórico\n",
    "print(\"Dias únicos de pedidos no histórico por usuário:\")\n",
    "display(historical_order_days.head())\n"
   ],
   "id": "dc441c43eaf49c79",
   "outputs": [
    {
     "name": "stdout",
     "output_type": "stream",
     "text": [
      "Dias únicos de pedidos no histórico por usuário:\n"
     ]
    },
    {
     "data": {
      "text/plain": [
       "       account_id  historical_order_days\n",
       "0  BR_00000343803                     53\n",
       "1  BR_00001415930                      7\n",
       "2  BR_00001545205                     23\n",
       "3  BR_00001760106                     27\n",
       "4  BR_00002485176                     15"
      ],
      "text/html": [
       "<div>\n",
       "<style scoped>\n",
       "    .dataframe tbody tr th:only-of-type {\n",
       "        vertical-align: middle;\n",
       "    }\n",
       "\n",
       "    .dataframe tbody tr th {\n",
       "        vertical-align: top;\n",
       "    }\n",
       "\n",
       "    .dataframe thead th {\n",
       "        text-align: right;\n",
       "    }\n",
       "</style>\n",
       "<table border=\"1\" class=\"dataframe\">\n",
       "  <thead>\n",
       "    <tr style=\"text-align: right;\">\n",
       "      <th></th>\n",
       "      <th>account_id</th>\n",
       "      <th>historical_order_days</th>\n",
       "    </tr>\n",
       "  </thead>\n",
       "  <tbody>\n",
       "    <tr>\n",
       "      <th>0</th>\n",
       "      <td>BR_00000343803</td>\n",
       "      <td>53</td>\n",
       "    </tr>\n",
       "    <tr>\n",
       "      <th>1</th>\n",
       "      <td>BR_00001415930</td>\n",
       "      <td>7</td>\n",
       "    </tr>\n",
       "    <tr>\n",
       "      <th>2</th>\n",
       "      <td>BR_00001545205</td>\n",
       "      <td>23</td>\n",
       "    </tr>\n",
       "    <tr>\n",
       "      <th>3</th>\n",
       "      <td>BR_00001760106</td>\n",
       "      <td>27</td>\n",
       "    </tr>\n",
       "    <tr>\n",
       "      <th>4</th>\n",
       "      <td>BR_00002485176</td>\n",
       "      <td>15</td>\n",
       "    </tr>\n",
       "  </tbody>\n",
       "</table>\n",
       "</div>"
      ]
     },
     "metadata": {},
     "output_type": "display_data"
    }
   ],
   "execution_count": 8
  },
  {
   "metadata": {},
   "cell_type": "markdown",
   "source": "## Integração com os Dados de Agosto",
   "id": "3e931affbf804fb4"
  },
  {
   "metadata": {
    "ExecuteTime": {
     "end_time": "2024-10-14T16:26:31.932273Z",
     "start_time": "2024-10-14T16:26:31.631328Z"
    }
   },
   "cell_type": "code",
   "source": [
    "# Unir o total de vendas previsto com os dias de pedidos históricos\n",
    "august_data = pd.merge(august_total_sales, historical_order_days, on='account_id', how='left')\n",
    "\n",
    "# Exibir o conjunto de dados combinado\n",
    "print(\"Dados de agosto combinados com histórico:\")\n",
    "display(august_data.head())\n"
   ],
   "id": "1e4bc5843cc72323",
   "outputs": [
    {
     "name": "stdout",
     "output_type": "stream",
     "text": [
      "Dados de agosto combinados com histórico:\n"
     ]
    },
    {
     "data": {
      "text/plain": [
       "       account_id  total_transaction_amount_august  historical_order_days\n",
       "0  BR_00000343803                           309.99                   53.0\n",
       "1  BR_00001415930                           874.98                    7.0\n",
       "2  BR_00001760106                         11976.70                   27.0\n",
       "3  BR_00002485176                           511.48                   15.0\n",
       "4  BR_00002536340                          7081.14                   23.0"
      ],
      "text/html": [
       "<div>\n",
       "<style scoped>\n",
       "    .dataframe tbody tr th:only-of-type {\n",
       "        vertical-align: middle;\n",
       "    }\n",
       "\n",
       "    .dataframe tbody tr th {\n",
       "        vertical-align: top;\n",
       "    }\n",
       "\n",
       "    .dataframe thead th {\n",
       "        text-align: right;\n",
       "    }\n",
       "</style>\n",
       "<table border=\"1\" class=\"dataframe\">\n",
       "  <thead>\n",
       "    <tr style=\"text-align: right;\">\n",
       "      <th></th>\n",
       "      <th>account_id</th>\n",
       "      <th>total_transaction_amount_august</th>\n",
       "      <th>historical_order_days</th>\n",
       "    </tr>\n",
       "  </thead>\n",
       "  <tbody>\n",
       "    <tr>\n",
       "      <th>0</th>\n",
       "      <td>BR_00000343803</td>\n",
       "      <td>309.99</td>\n",
       "      <td>53.0</td>\n",
       "    </tr>\n",
       "    <tr>\n",
       "      <th>1</th>\n",
       "      <td>BR_00001415930</td>\n",
       "      <td>874.98</td>\n",
       "      <td>7.0</td>\n",
       "    </tr>\n",
       "    <tr>\n",
       "      <th>2</th>\n",
       "      <td>BR_00001760106</td>\n",
       "      <td>11976.70</td>\n",
       "      <td>27.0</td>\n",
       "    </tr>\n",
       "    <tr>\n",
       "      <th>3</th>\n",
       "      <td>BR_00002485176</td>\n",
       "      <td>511.48</td>\n",
       "      <td>15.0</td>\n",
       "    </tr>\n",
       "    <tr>\n",
       "      <th>4</th>\n",
       "      <td>BR_00002536340</td>\n",
       "      <td>7081.14</td>\n",
       "      <td>23.0</td>\n",
       "    </tr>\n",
       "  </tbody>\n",
       "</table>\n",
       "</div>"
      ]
     },
     "metadata": {},
     "output_type": "display_data"
    }
   ],
   "execution_count": 9
  },
  {
   "metadata": {},
   "cell_type": "markdown",
   "source": "## Previsão dos Dias Restantes de Pedidos",
   "id": "6383f9230e690e81"
  },
  {
   "metadata": {
    "ExecuteTime": {
     "end_time": "2024-10-14T16:28:06.802987Z",
     "start_time": "2024-10-14T16:28:05.285791Z"
    }
   },
   "cell_type": "code",
   "source": [
    "# Contar o número de dias únicos de pedidos já feitos em agosto para cada usuário\n",
    "august_known_days = august_with_missing_order_days.groupby('account_id')['order_date'].nunique().reset_index()\n",
    "august_known_days.columns = ['account_id', 'known_order_days_august']\n",
    "\n",
    "# Unir os dados de dias de pedidos já conhecidos em agosto com os dados combinados\n",
    "august_data = pd.merge(august_data, august_known_days, on='account_id', how='left')\n",
    "\n",
    "# Substituir os valores nulos de known_order_days_august por 0 (usuários sem pedidos conhecidos ainda)\n",
    "august_data['known_order_days_august'].fillna(0, inplace=True)\n",
    "\n",
    "# Calcular os dias restantes de pedidos previstos para agosto\n",
    "# Exemplo simples: usamos a proporção de dias históricos e ajustamos pelo total de vendas\n",
    "august_data['predicted_total_order_days_august'] = (august_data['historical_order_days'] *\n",
    "                                                    august_data['total_transaction_amount_august'] /\n",
    "                                                    august_data['total_transaction_amount_august'].mean())\n",
    "\n",
    "# Subtrair os dias já conhecidos para obter a previsão de dias restantes\n",
    "august_data['predicted_remaining_order_days'] = august_data['predicted_total_order_days_august'] - august_data['known_order_days_august']\n",
    "\n",
    "# Assegurar que a previsão não tenha valores negativos\n",
    "august_data['predicted_remaining_order_days'] = august_data['predicted_remaining_order_days'].apply(lambda x: max(x, 0))\n",
    "\n",
    "# Exibir o resultado final\n",
    "print(\"Previsão dos dias restantes de pedidos para cada usuário:\")\n",
    "display(august_data[['account_id', 'predicted_remaining_order_days']].head())\n"
   ],
   "id": "b0b9916bd26159de",
   "outputs": [
    {
     "name": "stderr",
     "output_type": "stream",
     "text": [
      "C:\\Users\\karin\\AppData\\Local\\Temp\\ipykernel_18416\\2261885156.py:9: FutureWarning: A value is trying to be set on a copy of a DataFrame or Series through chained assignment using an inplace method.\n",
      "The behavior will change in pandas 3.0. This inplace method will never work because the intermediate object on which we are setting values always behaves as a copy.\n",
      "\n",
      "For example, when doing 'df[col].method(value, inplace=True)', try using 'df.method({col: value}, inplace=True)' or df[col] = df[col].method(value) instead, to perform the operation inplace on the original object.\n",
      "\n",
      "\n",
      "  august_data['known_order_days_august'].fillna(0, inplace=True)\n"
     ]
    },
    {
     "name": "stdout",
     "output_type": "stream",
     "text": [
      "Previsão dos dias restantes de pedidos para cada usuário:\n"
     ]
    },
    {
     "data": {
      "text/plain": [
       "       account_id  predicted_remaining_order_days\n",
       "0  BR_00000343803                        2.561874\n",
       "1  BR_00001415930                        0.955059\n",
       "2  BR_00001760106                       50.423741\n",
       "3  BR_00002485176                        0.000000\n",
       "4  BR_00002536340                       24.395990"
      ],
      "text/html": [
       "<div>\n",
       "<style scoped>\n",
       "    .dataframe tbody tr th:only-of-type {\n",
       "        vertical-align: middle;\n",
       "    }\n",
       "\n",
       "    .dataframe tbody tr th {\n",
       "        vertical-align: top;\n",
       "    }\n",
       "\n",
       "    .dataframe thead th {\n",
       "        text-align: right;\n",
       "    }\n",
       "</style>\n",
       "<table border=\"1\" class=\"dataframe\">\n",
       "  <thead>\n",
       "    <tr style=\"text-align: right;\">\n",
       "      <th></th>\n",
       "      <th>account_id</th>\n",
       "      <th>predicted_remaining_order_days</th>\n",
       "    </tr>\n",
       "  </thead>\n",
       "  <tbody>\n",
       "    <tr>\n",
       "      <th>0</th>\n",
       "      <td>BR_00000343803</td>\n",
       "      <td>2.561874</td>\n",
       "    </tr>\n",
       "    <tr>\n",
       "      <th>1</th>\n",
       "      <td>BR_00001415930</td>\n",
       "      <td>0.955059</td>\n",
       "    </tr>\n",
       "    <tr>\n",
       "      <th>2</th>\n",
       "      <td>BR_00001760106</td>\n",
       "      <td>50.423741</td>\n",
       "    </tr>\n",
       "    <tr>\n",
       "      <th>3</th>\n",
       "      <td>BR_00002485176</td>\n",
       "      <td>0.000000</td>\n",
       "    </tr>\n",
       "    <tr>\n",
       "      <th>4</th>\n",
       "      <td>BR_00002536340</td>\n",
       "      <td>24.395990</td>\n",
       "    </tr>\n",
       "  </tbody>\n",
       "</table>\n",
       "</div>"
      ]
     },
     "metadata": {},
     "output_type": "display_data"
    }
   ],
   "execution_count": 10
  },
  {
   "metadata": {},
   "cell_type": "markdown",
   "source": "## Exportando os Resultados para CSV",
   "id": "b863046e90f71010"
  },
  {
   "metadata": {
    "ExecuteTime": {
     "end_time": "2024-10-14T16:29:46.097152Z",
     "start_time": "2024-10-14T16:29:45.705319Z"
    }
   },
   "cell_type": "code",
   "source": [
    "# Preparar o arquivo final para exportação\n",
    "final_predictions = august_data[['account_id', 'predicted_remaining_order_days']]\n",
    "final_predictions.columns = ['account_id', 'prediction']\n",
    "\n",
    "# Exportar para um arquivo CSV\n",
    "final_predictions.to_csv('order_days_prediction.csv', index=False)\n",
    "\n",
    "print(\"Arquivo CSV 'order_days_prediction.csv' gerado com sucesso!\")\n"
   ],
   "id": "719a3dee6bb147d3",
   "outputs": [
    {
     "name": "stdout",
     "output_type": "stream",
     "text": [
      "Arquivo CSV 'order_days_prediction.csv' gerado com sucesso!\n"
     ]
    }
   ],
   "execution_count": 11
  },
  {
   "metadata": {},
   "cell_type": "markdown",
   "source": "## Questão 2",
   "id": "d7f689753ac25552"
  },
  {
   "metadata": {},
   "cell_type": "markdown",
   "source": "### Distribuição dos Dias de Pedidos",
   "id": "8305f24834e7ddc2"
  },
  {
   "metadata": {
    "ExecuteTime": {
     "end_time": "2024-10-14T16:32:59.107730Z",
     "start_time": "2024-10-14T16:32:58.852669Z"
    }
   },
   "cell_type": "code",
   "source": [
    "# Estimar lambda (média de dias de pedidos) com base nos pedidos históricos\n",
    "lambda_estimate = historical_order_days['historical_order_days'].mean()\n",
    "\n",
    "print(f\"Estimativa de lambda (dias médios de pedidos): {lambda_estimate}\")\n"
   ],
   "id": "c732a14875b08b64",
   "outputs": [
    {
     "name": "stdout",
     "output_type": "stream",
     "text": [
      "Estimativa de lambda (dias médios de pedidos): 29.82074782354538\n"
     ]
    }
   ],
   "execution_count": 12
  },
  {
   "metadata": {},
   "cell_type": "markdown",
   "source": "### Calcular a probabilidade de mais de 4 dias de pedidos",
   "id": "32cc87598a17f8cf"
  },
  {
   "metadata": {
    "ExecuteTime": {
     "end_time": "2024-10-14T16:35:07.776104Z",
     "start_time": "2024-10-14T16:35:07.622509Z"
    }
   },
   "cell_type": "code",
   "source": [
    "from scipy.stats import poisson\n",
    "\n",
    "# Calcular a probabilidade de mais de 4 dias de pedidos\n",
    "prob_more_than_4 = 1 - poisson.cdf(4, lambda_estimate)\n",
    "\n",
    "print(f\"Probabilidade de mais de 4 dias de pedidos: {prob_more_than_4}\")\n"
   ],
   "id": "ef4ba8d7bf7b8dcc",
   "outputs": [
    {
     "name": "stdout",
     "output_type": "stream",
     "text": [
      "Probabilidade de mais de 4 dias de pedidos: 0.9999999957632586\n"
     ]
    }
   ],
   "execution_count": 13
  },
  {
   "metadata": {},
   "cell_type": "markdown",
   "source": "### Estimar o tempo entre dias de pedidos",
   "id": "5691fb85dbafd2a8"
  },
  {
   "metadata": {
    "ExecuteTime": {
     "end_time": "2024-10-14T16:35:45.859040Z",
     "start_time": "2024-10-14T16:35:45.831547Z"
    }
   },
   "cell_type": "code",
   "source": [
    "# Tempo esperado entre pedidos é o inverso de lambda\n",
    "expected_time_between_orders = 1 / lambda_estimate\n",
    "\n",
    "print(f\"Tempo médio esperado entre dias de pedidos: {expected_time_between_orders} dias\")\n"
   ],
   "id": "4acce923763559c8",
   "outputs": [
    {
     "name": "stdout",
     "output_type": "stream",
     "text": [
      "Tempo médio esperado entre dias de pedidos: 0.03353369962139032 dias\n"
     ]
    }
   ],
   "execution_count": 14
  },
  {
   "metadata": {},
   "cell_type": "markdown",
   "source": "## Treinando um modelo de regressão para prever os dias de pedidos",
   "id": "6c4d35159bfaaeb0"
  },
  {
   "metadata": {},
   "cell_type": "markdown",
   "source": "### Remover Valores Nulos",
   "id": "4a5b67414190bf57"
  },
  {
   "metadata": {
    "ExecuteTime": {
     "end_time": "2024-10-14T16:42:47.878058Z",
     "start_time": "2024-10-14T16:42:34.751670Z"
    }
   },
   "cell_type": "code",
   "source": [
    "# Remover linhas com valores nulos em y (dias de pedidos restantes)\n",
    "august_data_clean = august_data.dropna(subset=['predicted_remaining_order_days'])\n",
    "\n",
    "# Preparar os dados: Excluir colunas desnecessárias e lidar com valores ausentes\n",
    "X = august_data_clean[['total_transaction_amount_august', 'historical_order_days']]  # Features\n",
    "y = august_data_clean['predicted_remaining_order_days']  # Target\n",
    "\n",
    "# Dividir em conjunto de treino e teste\n",
    "X_train, X_test, y_train, y_test = train_test_split(X, y, test_size=0.2, random_state=42)\n",
    "\n",
    "# Treinar o modelo\n",
    "model = RandomForestRegressor(n_estimators=100, random_state=42)\n",
    "model.fit(X_train, y_train)\n",
    "\n",
    "# Fazer previsões no conjunto de teste\n",
    "y_pred = model.predict(X_test)\n",
    "\n",
    "# Avaliar o modelo\n",
    "mse = mean_squared_error(y_test, y_pred)\n",
    "print(f\"Mean Squared Error (Após remover NaN): {mse}\")\n"
   ],
   "id": "83c83a1a47f334a4",
   "outputs": [
    {
     "name": "stdout",
     "output_type": "stream",
     "text": [
      "Mean Squared Error (Após remover NaN): 966751.7781377984\n"
     ]
    }
   ],
   "execution_count": 16
  },
  {
   "metadata": {},
   "cell_type": "markdown",
   "source": "### Preencher os Valores Nulos com a Média",
   "id": "2d2b6e1806d24ccd"
  },
  {
   "metadata": {
    "ExecuteTime": {
     "end_time": "2024-10-14T16:43:49.110426Z",
     "start_time": "2024-10-14T16:43:30.260602Z"
    }
   },
   "cell_type": "code",
   "source": [
    "# Preencher os valores nulos de 'predicted_remaining_order_days' com a média\n",
    "august_data['predicted_remaining_order_days'].fillna(august_data['predicted_remaining_order_days'].mean(), inplace=True)\n",
    "\n",
    "# Preparar os dados: Excluir colunas desnecessárias e lidar com valores ausentes\n",
    "X = august_data[['total_transaction_amount_august', 'historical_order_days']]  # Features\n",
    "y = august_data['predicted_remaining_order_days']  # Target\n",
    "\n",
    "# Dividir em conjunto de treino e teste\n",
    "X_train, X_test, y_train, y_test = train_test_split(X, y, test_size=0.2, random_state=42)\n",
    "\n",
    "# Treinar o modelo\n",
    "model = RandomForestRegressor(n_estimators=100, random_state=42)\n",
    "model.fit(X_train, y_train)\n",
    "\n",
    "# Fazer previsões no conjunto de teste\n",
    "y_pred = model.predict(X_test)\n",
    "\n",
    "# Avaliar o modelo\n",
    "mse = mean_squared_error(y_test, y_pred)\n",
    "print(f\"Mean Squared Error (Após preencher NaN com a média): {mse}\")\n"
   ],
   "id": "981280efcb5c5964",
   "outputs": [
    {
     "name": "stderr",
     "output_type": "stream",
     "text": [
      "C:\\Users\\karin\\AppData\\Local\\Temp\\ipykernel_18416\\1260939707.py:2: FutureWarning: A value is trying to be set on a copy of a DataFrame or Series through chained assignment using an inplace method.\n",
      "The behavior will change in pandas 3.0. This inplace method will never work because the intermediate object on which we are setting values always behaves as a copy.\n",
      "\n",
      "For example, when doing 'df[col].method(value, inplace=True)', try using 'df.method({col: value}, inplace=True)' or df[col] = df[col].method(value) instead, to perform the operation inplace on the original object.\n",
      "\n",
      "\n",
      "  august_data['predicted_remaining_order_days'].fillna(august_data['predicted_remaining_order_days'].mean(), inplace=True)\n"
     ]
    },
    {
     "name": "stdout",
     "output_type": "stream",
     "text": [
      "Mean Squared Error (Após preencher NaN com a média): 709995.6443089595\n"
     ]
    }
   ],
   "execution_count": 17
  },
  {
   "metadata": {},
   "cell_type": "markdown",
   "source": "### Adicionar mais Features",
   "id": "fb78e3931751351f"
  },
  {
   "metadata": {
    "ExecuteTime": {
     "end_time": "2024-10-14T16:45:50.468904Z",
     "start_time": "2024-10-14T16:45:37.491186Z"
    }
   },
   "cell_type": "code",
   "source": [
    "# Adicionar mais features para o modelo\n",
    "X = august_data[['total_transaction_amount_august', 'historical_order_days', 'known_order_days_august']]  # Features\n",
    "\n",
    "# Dividir em conjunto de treino e teste\n",
    "X_train, X_test, y_train, y_test = train_test_split(X, y, test_size=0.2, random_state=42)\n",
    "\n",
    "# Treinar o modelo de Random Forest\n",
    "model = RandomForestRegressor(n_estimators=100, random_state=42)\n",
    "model.fit(X_train, y_train)\n",
    "\n",
    "# Fazer previsões no conjunto de teste\n",
    "y_pred = model.predict(X_test)\n",
    "\n",
    "# Avaliar o modelo\n",
    "mse = mean_squared_error(y_test, y_pred)\n",
    "print(f\"Mean Squared Error com mais features: {mse}\")\n"
   ],
   "id": "244d68fbed09f5d5",
   "outputs": [
    {
     "name": "stdout",
     "output_type": "stream",
     "text": [
      "Mean Squared Error com mais features: 929751.172867732\n"
     ]
    }
   ],
   "execution_count": 18
  },
  {
   "metadata": {},
   "cell_type": "markdown",
   "source": "### Remover Linhas com NaN",
   "id": "847013b204a222b0"
  },
  {
   "metadata": {
    "ExecuteTime": {
     "end_time": "2024-10-14T16:50:09.537951Z",
     "start_time": "2024-10-14T16:50:03.832091Z"
    }
   },
   "cell_type": "code",
   "source": [
    "# Remover linhas com valores nulos em X (features)\n",
    "X_clean = X.dropna()\n",
    "\n",
    "# Também precisamos remover os valores correspondentes de y\n",
    "y_clean = y[X_clean.index]\n",
    "\n",
    "# Dividir em conjunto de treino e teste\n",
    "X_train, X_test, y_train, y_test = train_test_split(X_clean, y_clean, test_size=0.2, random_state=42)\n",
    "\n",
    "# Treinar o modelo de Regressão Linear\n",
    "model = LinearRegression()\n",
    "model.fit(X_train, y_train)\n",
    "\n",
    "# Fazer previsões no conjunto de teste\n",
    "y_pred = model.predict(X_test)\n",
    "\n",
    "# Avaliar o modelo\n",
    "mse = mean_squared_error(y_test, y_pred)\n",
    "print(f\"Mean Squared Error com Regressão Linear (sem NaN): {mse}\")\n"
   ],
   "id": "d9a79e408ffb0395",
   "outputs": [
    {
     "name": "stdout",
     "output_type": "stream",
     "text": [
      "Mean Squared Error com Regressão Linear (sem NaN): 1868173.1096264252\n"
     ]
    }
   ],
   "execution_count": 20
  },
  {
   "metadata": {},
   "cell_type": "markdown",
   "source": "### Preencher os Valores Faltantes com a Média",
   "id": "3c40160aae02ccdd"
  },
  {
   "metadata": {
    "ExecuteTime": {
     "end_time": "2024-10-14T16:51:08.455966Z",
     "start_time": "2024-10-14T16:51:08.267323Z"
    }
   },
   "cell_type": "code",
   "source": [
    "# Preencher os valores faltantes com a média de cada coluna\n",
    "X_filled = X.fillna(X.mean())\n",
    "\n",
    "# Dividir em conjunto de treino e teste\n",
    "X_train, X_test, y_train, y_test = train_test_split(X_filled, y, test_size=0.2, random_state=42)\n",
    "\n",
    "# Treinar o modelo de Regressão Linear\n",
    "model = LinearRegression()\n",
    "model.fit(X_train, y_train)\n",
    "\n",
    "# Fazer previsões no conjunto de teste\n",
    "y_pred = model.predict(X_test)\n",
    "\n",
    "# Avaliar o modelo\n",
    "mse = mean_squared_error(y_test, y_pred)\n",
    "print(f\"Mean Squared Error com Regressão Linear (preenchendo NaN): {mse}\")\n"
   ],
   "id": "aee717fb66db4e1f",
   "outputs": [
    {
     "name": "stdout",
     "output_type": "stream",
     "text": [
      "Mean Squared Error com Regressão Linear (preenchendo NaN): 1175225.8966954886\n"
     ]
    }
   ],
   "execution_count": 21
  },
  {
   "metadata": {},
   "cell_type": "markdown",
   "source": "## Visualizar os Resultados",
   "id": "4443faa641437a78"
  },
  {
   "metadata": {
    "ExecuteTime": {
     "end_time": "2024-10-14T16:53:42.015341Z",
     "start_time": "2024-10-14T16:53:27.612605Z"
    }
   },
   "cell_type": "code",
   "source": [
    "import matplotlib.pyplot as plt\n",
    "\n",
    "# Comparar valores reais e previstos\n",
    "plt.figure(figsize=(8, 6))\n",
    "plt.scatter(y_test, y_pred)\n",
    "plt.plot([y_test.min(), y_test.max()], [y_test.min(), y_test.max()], color='red', linewidth=2)  # Linha ideal\n",
    "plt.xlabel('Valores Reais')\n",
    "plt.ylabel('Valores Previstos')\n",
    "plt.title('Comparação entre Valores Reais e Previstos')\n",
    "plt.show()\n"
   ],
   "id": "9d4f438336952d9e",
   "outputs": [
    {
     "data": {
      "text/plain": [
       "<Figure size 800x600 with 1 Axes>"
      ],
      "image/png": "[encoded data removed]"
     },
     "metadata": {},
     "output_type": "display_data"
    }
   ],
   "execution_count": 22
  },
  {
   "metadata": {},
   "cell_type": "markdown",
   "source": "### Avaliar o Modelo com Métricas Diferentes",
   "id": "3952ee173a87e58b"
  },
  {
   "metadata": {
    "ExecuteTime": {
     "end_time": "2024-10-14T16:55:00.301495Z",
     "start_time": "2024-10-14T16:55:00.150472Z"
    }
   },
   "cell_type": "code",
   "source": [
    "from sklearn.metrics import r2_score, mean_absolute_error\n",
    "\n",
    "# Calcular o R²\n",
    "r2 = r2_score(y_test, y_pred)\n",
    "mae = mean_absolute_error(y_test, y_pred)\n",
    "\n",
    "print(f\"R²: {r2}\")\n",
    "print(f\"Mean Absolute Error (MAE): {mae}\")\n"
   ],
   "id": "8e7eeaf55baccd85",
   "outputs": [
    {
     "name": "stdout",
     "output_type": "stream",
     "text": [
      "R²: 0.6228884268793385\n",
      "Mean Absolute Error (MAE): 164.35044798661087\n"
     ]
    }
   ],
   "execution_count": 23
  },
  {
   "metadata": {},
   "cell_type": "markdown",
   "source": "### Ajustar Hiperparâmetros",
   "id": "a82a62864ccdf9e8"
  },
  {
   "metadata": {
    "ExecuteTime": {
     "end_time": "2024-10-14T16:55:53.761577Z",
     "start_time": "2024-10-14T16:55:39.116527Z"
    }
   },
   "cell_type": "code",
   "source": [
    "# Random Forest com ajuste de hiperparâmetros\n",
    "model_rf = RandomForestRegressor(n_estimators=200, max_depth=10, random_state=42)\n",
    "model_rf.fit(X_train, y_train)\n",
    "\n",
    "# Fazer previsões\n",
    "y_pred_rf = model_rf.predict(X_test)\n",
    "\n",
    "# Avaliar o modelo\n",
    "mse_rf = mean_squared_error(y_test, y_pred_rf)\n",
    "print(f\"Mean Squared Error com Random Forest (ajustado): {mse_rf}\")\n"
   ],
   "id": "aed11dad4db560e9",
   "outputs": [
    {
     "name": "stdout",
     "output_type": "stream",
     "text": [
      "Mean Squared Error com Random Forest (ajustado): 912220.2724785159\n"
     ]
    }
   ],
   "execution_count": 24
  },
  {
   "metadata": {},
   "cell_type": "markdown",
   "source": "### previsões do Random Forest",
   "id": "22274d809aad3124"
  },
  {
   "metadata": {
    "ExecuteTime": {
     "end_time": "2024-10-14T16:58:03.134520Z",
     "start_time": "2024-10-14T16:57:53.466238Z"
    }
   },
   "cell_type": "code",
   "source": [
    "import matplotlib.pyplot as plt\n",
    "\n",
    "# Comparar valores reais e previstos\n",
    "plt.figure(figsize=(8, 6))\n",
    "plt.scatter(y_test, y_pred_rf)\n",
    "plt.plot([y_test.min(), y_test.max()], [y_test.min(), y_test.max()], color='red', linewidth=2)  # Linha ideal\n",
    "plt.xlabel('Valores Reais')\n",
    "plt.ylabel('Valores Previstos')\n",
    "plt.title('Comparação entre Valores Reais e Previstos (Random Forest)')\n",
    "plt.show()\n"
   ],
   "id": "47fcbbfacde96167",
   "outputs": [
    {
     "data": {
      "text/plain": [
       "<Figure size 800x600 with 1 Axes>"
      ],
      "image/png": "[encoded data removed]"
     },
     "metadata": {},
     "output_type": "display_data"
    }
   ],
   "execution_count": 25
  },
  {
   "metadata": {},
   "cell_type": "markdown",
   "source": "### ajuste de hiperparâmetros mais avançado usando o GridSearchCV",
   "id": "599ddf1ee04fb7e4"
  },
  {
   "metadata": {
    "jupyter": {
     "is_executing": true
    },
    "ExecuteTime": {
     "start_time": "2024-10-14T17:05:47.537290Z"
    }
   },
   "cell_type": "code",
   "source": [
    "from sklearn.model_selection import GridSearchCV\n",
    "\n",
    "# Definir os hiperparâmetros para ajuste\n",
    "param_grid = {\n",
    "    'n_estimators': [100, 200, 300],\n",
    "    'max_depth': [10, 15, 20],\n",
    "    'min_samples_split': [2, 5, 10]\n",
    "}\n",
    "\n",
    "# Fazer a busca em grade\n",
    "grid_search = GridSearchCV(estimator=RandomForestRegressor(random_state=42), param_grid=param_grid, cv=3, n_jobs=-1, verbose=2)\n",
    "grid_search.fit(X_train, y_train)\n",
    "\n",
    "# Melhor combinação de parâmetros\n",
    "print(f\"Melhores parâmetros: {grid_search.best_params_}\")\n",
    "\n",
    "# Avaliar o modelo com os melhores parâmetros\n",
    "best_model = grid_search.best_estimator_\n",
    "y_pred_best = best_model.predict(X_test)\n",
    "mse_best = mean_squared_error(y_test, y_pred_best)\n",
    "print(f\"Mean Squared Error com Random Forest (melhor modelo): {mse_best}\")\n"
   ],
   "id": "6e0d965d17c6d7ff",
   "outputs": [
    {
     "name": "stdout",
     "output_type": "stream",
     "text": [
      "Fitting 3 folds for each of 27 candidates, totalling 81 fits\n"
     ]
    }
   ],
   "execution_count": null
  },
  {
   "metadata": {},
   "cell_type": "markdown",
   "source": "### Gerar o Gráfico de Comparação (Valores Reais vs Previstos): Após o ajuste do modelo, podemos gerar o gráfico para comparar os valores reais e previstos usando o melhor modelo encontrado.",
   "id": "521ec54b2b79ae3e"
  },
  {
   "metadata": {
    "ExecuteTime": {
     "end_time": "2024-10-14T17:13:51.086086Z",
     "start_time": "2024-10-14T17:13:27.356705Z"
    }
   },
   "cell_type": "code",
   "source": [
    "import matplotlib.pyplot as plt\n",
    "\n",
    "# Comparar valores reais e previstos do melhor modelo\n",
    "plt.figure(figsize=(8, 6))\n",
    "plt.scatter(y_test, y_pred_best)\n",
    "plt.plot([y_test.min(), y_test.max()], [y_test.min(), y_test.max()], color='red', linewidth=2)  # Linha ideal\n",
    "plt.xlabel('Valores Reais')\n",
    "plt.ylabel('Valores Previstos')\n",
    "plt.title('Comparação entre Valores Reais e Previstos (Melhor Random Forest)')\n",
    "plt.show()\n"
   ],
   "id": "919dce0226217f29",
   "outputs": [
    {
     "data": {
      "text/plain": [
       "<Figure size 800x600 with 1 Axes>"
      ],
      "image/png": "[encoded data removed]"
     },
     "metadata": {},
     "output_type": "display_data"
    }
   ],
   "execution_count": 28
  },
  {
   "metadata": {},
   "cell_type": "code",
   "outputs": [],
   "execution_count": null,
   "source": "",
   "id": "b8dfa5402321a9b"
  }
 ],
 "metadata": {
  "kernelspec": {
   "display_name": "Python 3",
   "language": "python",
   "name": "python3"
  },
  "language_info": {
   "codemirror_mode": {
    "name": "ipython",
    "version": 2
   },
   "file_extension": ".py",
   "mimetype": "text/x-python",
   "name": "python",
   "nbconvert_exporter": "python",
   "pygments_lexer": "ipython2",
   "version": "2.7.6"
  }
 },
 "nbformat": 4,
 "nbformat_minor": 5
}
